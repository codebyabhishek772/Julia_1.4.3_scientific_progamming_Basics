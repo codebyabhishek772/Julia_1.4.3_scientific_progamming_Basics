{
 "cells": [
  {
   "cell_type": "markdown",
   "metadata": {},
   "source": [
    "Julia Scientific Programming\n",
    "\n",
    "\n",
    "BASICS...............\n",
    "\n",
    "\n",
    "PRINT FUCTION IN JULIA"
   ]
  },
  {
   "cell_type": "code",
   "execution_count": 4,
   "metadata": {},
   "outputs": [
    {
     "name": "stdout",
     "output_type": "stream",
     "text": [
      "Hello World\n",
      "This is an Introduction of Julia Scientific Progamming\n",
      "I am Using Julia 1.4.2 version of Julia\n",
      "I am Abhishek Biswas of Dr NTR college of Agricultural Engineering Bapatla\n",
      "This is a jupyter Notebook\n",
      "Bye, see you later\n"
     ]
    }
   ],
   "source": [
    "println(\"Hello World\")\n",
    "println(\"This is an Introduction of Julia Scientific Progamming\")\n",
    "println(\"I am Using Julia 1.4.2 version of Julia\")\n",
    "println(\"I am Abhishek Biswas of Dr NTR college of Agricultural Engineering Bapatla\")\n",
    "println(\"This is a jupyter Notebook\")\n",
    "println(\"Bye, see you later\")"
   ]
  },
  {
   "cell_type": "markdown",
   "metadata": {},
   "source": [
    "call print fucion without prompt in run like in previous cell..... by adding semicolon (;)"
   ]
  },
  {
   "cell_type": "code",
   "execution_count": 10,
   "metadata": {},
   "outputs": [
    {
     "name": "stdout",
     "output_type": "stream",
     "text": [
      "Hello World\n",
      "This is an Introduction of Julia Scientific Progamming\n",
      "I am Using Julia 1.4.2 version of Julia\n",
      "I am Abhishek Biswas of Dr NTR college of Agricultural Engineering Bapatla\n",
      "This is a jupyter Notebook\n",
      "Bye, see you later\n"
     ]
    }
   ],
   "source": [
    "println(\"Hello World\");\n",
    "println(\"This is an Introduction of Julia Scientific Progamming\");\n",
    "println(\"I am Using Julia 1.4.2 version of Julia\");\n",
    "println(\"I am Abhishek Biswas of Dr NTR college of Agricultural Engineering Bapatla\");\n",
    "println(\"This is a jupyter Notebook\");\n",
    "println(\"Bye, see you later\");"
   ]
  },
  {
   "cell_type": "markdown",
   "metadata": {},
   "source": [
    "Assignment Operator and Assignment of Variable"
   ]
  },
  {
   "cell_type": "code",
   "execution_count": 9,
   "metadata": {},
   "outputs": [
    {
     "data": {
      "text/plain": [
       "String"
      ]
     },
     "execution_count": 9,
     "metadata": {},
     "output_type": "execute_result"
    }
   ],
   "source": [
    "name = \"Abhishek\"\n",
    "typeof(name)"
   ]
  },
  {
   "cell_type": "code",
   "execution_count": 8,
   "metadata": {},
   "outputs": [
    {
     "data": {
      "text/plain": [
       "Int64"
      ]
     },
     "execution_count": 8,
     "metadata": {},
     "output_type": "execute_result"
    }
   ],
   "source": [
    "number = 40\n",
    "typeof(number)"
   ]
  },
  {
   "cell_type": "markdown",
   "metadata": {},
   "source": [
    "comment in Julia Progamming......\n",
    "\n",
    "For single line comment (# ------#)"
   ]
  },
  {
   "cell_type": "code",
   "execution_count": 11,
   "metadata": {},
   "outputs": [],
   "source": [
    "#This is first comment in julia.\n",
    "#This is single line comment."
   ]
  },
  {
   "cell_type": "markdown",
   "metadata": {},
   "source": [
    "For Multiple line comment (#== ---- ==#)"
   ]
  },
  {
   "cell_type": "code",
   "execution_count": 12,
   "metadata": {},
   "outputs": [],
   "source": [
    "#== Julia Scientific Programming\n",
    "\n",
    "BASICS...............\n",
    "\n",
    "PRINT FUCTION IN JULIA ==#"
   ]
  },
  {
   "cell_type": "markdown",
   "metadata": {},
   "source": [
    "Arithmatics Operation in Julia Progamming......."
   ]
  },
  {
   "cell_type": "code",
   "execution_count": 19,
   "metadata": {},
   "outputs": [
    {
     "name": "stdout",
     "output_type": "stream",
     "text": [
      "10\n"
     ]
    }
   ],
   "source": [
    "sum = 3+7;\n",
    "println(sum)"
   ]
  },
  {
   "cell_type": "code",
   "execution_count": 18,
   "metadata": {},
   "outputs": [
    {
     "name": "stdout",
     "output_type": "stream",
     "text": [
      "21\n"
     ]
    }
   ],
   "source": [
    "product = 3*7;\n",
    "println(product)"
   ]
  },
  {
   "cell_type": "code",
   "execution_count": 21,
   "metadata": {},
   "outputs": [
    {
     "name": "stdout",
     "output_type": "stream",
     "text": [
      "4.0\n"
     ]
    }
   ],
   "source": [
    "division = 12/3;\n",
    "println(division)"
   ]
  },
  {
   "cell_type": "code",
   "execution_count": 23,
   "metadata": {},
   "outputs": [
    {
     "name": "stdout",
     "output_type": "stream",
     "text": [
      "0\n"
     ]
    }
   ],
   "source": [
    "modulo = 12%3;\n",
    "println(modulo)"
   ]
  },
  {
   "cell_type": "markdown",
   "metadata": {},
   "source": [
    "String in julia Progamming \n",
    "\n",
    "single line string \n",
    "\n",
    "\n",
    "\"----\"               \n",
    "\n",
    "single charater string\n",
    "\n",
    "\n",
    "'----'                 \n",
    "\n",
    "Multiple line String charater\n",
    "\n",
    "\n",
    "\"\"\"-----\"\"\"            "
   ]
  },
  {
   "cell_type": "code",
   "execution_count": 25,
   "metadata": {},
   "outputs": [
    {
     "data": {
      "text/plain": [
       "\"This is Julia Progamming\""
      ]
     },
     "execution_count": 25,
     "metadata": {},
     "output_type": "execute_result"
    }
   ],
   "source": [
    "String1 = \"This is Julia Progamming\""
   ]
  },
  {
   "cell_type": "code",
   "execution_count": 35,
   "metadata": {},
   "outputs": [
    {
     "data": {
      "text/plain": [
       "\"I am also a string. \""
      ]
     },
     "execution_count": 35,
     "metadata": {},
     "output_type": "execute_result"
    }
   ],
   "source": [
    "string2 = \"\"\"I am also a string. \"\"\""
   ]
  },
  {
   "cell_type": "code",
   "execution_count": 39,
   "metadata": {},
   "outputs": [
    {
     "data": {
      "text/plain": [
       "\"Look, This is no errors\\\"!!! \""
      ]
     },
     "execution_count": 39,
     "metadata": {},
     "output_type": "execute_result"
    }
   ],
   "source": [
    "string3 = \"\"\"Look, This is no errors\"!!! \"\"\""
   ]
  },
  {
   "cell_type": "code",
   "execution_count": 40,
   "metadata": {},
   "outputs": [
    {
     "data": {
      "text/plain": [
       "Char"
      ]
     },
     "execution_count": 40,
     "metadata": {},
     "output_type": "execute_result"
    }
   ],
   "source": [
    "typeof('a')"
   ]
  },
  {
   "cell_type": "code",
   "execution_count": 44,
   "metadata": {},
   "outputs": [
    {
     "name": "stdout",
     "output_type": "stream",
     "text": [
      "Hello, my name is Abhishek Biswas.\n",
      "I have 10 fingers and 10 toes.\n",
      "That is 20 digits in all!!\n"
     ]
    }
   ],
   "source": [
    "name = \"Abhishek Biswas\"\n",
    "num_fingers = 10\n",
    "num_toes = 10\n",
    "\n",
    "println(\"Hello, my name is $name.\")\n",
    "println(\"I have $num_fingers fingers and $num_toes toes.\")\n",
    "\n",
    "println(\"That is $(num_fingers + num_toes) digits in all!!\")"
   ]
  },
  {
   "cell_type": "code",
   "execution_count": 45,
   "metadata": {},
   "outputs": [
    {
     "data": {
      "text/plain": [
       "\"I don't know, but 10 is too few.\""
      ]
     },
     "execution_count": 45,
     "metadata": {},
     "output_type": "execute_result"
    }
   ],
   "source": [
    "s3 = \"How many cats \";\n",
    "s4 = \"is too many cats?\";\n",
    "cat = 10\n",
    "\n",
    "string(s3, s4)\n",
    "\n",
    "string(\"I don't know, but \", cat, \" is too few.\")"
   ]
  },
  {
   "cell_type": "code",
   "execution_count": 46,
   "metadata": {},
   "outputs": [
    {
     "data": {
      "text/plain": [
       "\"How many cats is too many cats?\""
      ]
     },
     "execution_count": 46,
     "metadata": {},
     "output_type": "execute_result"
    }
   ],
   "source": [
    "s3*s4"
   ]
  },
  {
   "cell_type": "markdown",
   "metadata": {},
   "source": [
    "Data Structure in Julia\n",
    "\n",
    "\n",
    "some example of Data Structure"
   ]
  },
  {
   "cell_type": "code",
   "execution_count": 47,
   "metadata": {},
   "outputs": [
    {
     "data": {
      "text/plain": [
       "(\"lisp\", \"Fortrain\", \"Basic\", \"Cobol\", \"Algol\", \"visul Basic\", \"C\", \"C++\", \"Java\", \"ADA\", \"python\", \"Julia\", \"Javascript\", \"Html\", \"others\")"
      ]
     },
     "execution_count": 47,
     "metadata": {},
     "output_type": "execute_result"
    }
   ],
   "source": [
    "myfavorite_progamming_langauge = (\"lisp\", \"Fortrain\", \"Basic\", \"Cobol\", \"Algol\", \"visul Basic\", \"C\", \"C++\", \"Java\", \"ADA\", \"python\", \"Julia\", \"Javascript\", \"Html\", \"others\")"
   ]
  },
  {
   "cell_type": "markdown",
   "metadata": {},
   "source": [
    "This is error as Dictionary are immutable...."
   ]
  },
  {
   "cell_type": "code",
   "execution_count": 48,
   "metadata": {},
   "outputs": [
    {
     "ename": "UndefVarError",
     "evalue": "UndefVarError: myfavoriteanimals not defined",
     "output_type": "error",
     "traceback": [
      "UndefVarError: myfavoriteanimals not defined",
      "",
      "Stacktrace:",
      " [1] top-level scope at In[48]:1"
     ]
    }
   ],
   "source": [
    "myfavoriteanimals[1]"
   ]
  },
  {
   "cell_type": "markdown",
   "metadata": {},
   "source": [
    "1) Tuples...\n",
    "\n",
    "\n",
    "they are same as Dictionary but can be manupluate by indexing ....."
   ]
  },
  {
   "cell_type": "code",
   "execution_count": 50,
   "metadata": {},
   "outputs": [
    {
     "data": {
      "text/plain": [
       "(Hardest = \"Pascal\", Hard = \"COBOL\", Medium = \"python\", easy = \"Julia\")"
      ]
     },
     "execution_count": 50,
     "metadata": {},
     "output_type": "execute_result"
    }
   ],
   "source": [
    "myfavorite_progamming_langauge = (Hardest = \"Pascal\", Hard = \"COBOL\", Medium = \"python\", easy = \"Julia\")"
   ]
  },
  {
   "cell_type": "code",
   "execution_count": 54,
   "metadata": {},
   "outputs": [
    {
     "data": {
      "text/plain": [
       "\"Pascal\""
      ]
     },
     "execution_count": 54,
     "metadata": {},
     "output_type": "execute_result"
    }
   ],
   "source": [
    "myfavorite_progamming_langauge[1]"
   ]
  },
  {
   "cell_type": "code",
   "execution_count": 55,
   "metadata": {},
   "outputs": [
    {
     "data": {
      "text/plain": [
       "\"python\""
      ]
     },
     "execution_count": 55,
     "metadata": {},
     "output_type": "execute_result"
    }
   ],
   "source": [
    "myfavorite_progamming_langauge.Medium"
   ]
  },
  {
   "cell_type": "markdown",
   "metadata": {},
   "source": [
    "2) Dictonaries\n",
    "\n",
    "\n",
    "list of various thing but cannot immuatble......."
   ]
  },
  {
   "cell_type": "code",
   "execution_count": 61,
   "metadata": {},
   "outputs": [
    {
     "data": {
      "text/plain": [
       "Dict{String,String} with 3 entries:\n",
       "  \"Manga enquiry\" => \"152-6489\"\n",
       "  \"Pizza guy\"     => \"688-6888\"\n",
       "  \"Ghostbusters\"  => \"555-2368\""
      ]
     },
     "execution_count": 61,
     "metadata": {},
     "output_type": "execute_result"
    }
   ],
   "source": [
    "myphonebook = Dict(\"Pizza guy\" => \"688-6888\", \"Ghostbusters\" => \"555-2368\", \"Manga enquiry\" => \"152-6489\")"
   ]
  },
  {
   "cell_type": "code",
   "execution_count": 62,
   "metadata": {},
   "outputs": [
    {
     "data": {
      "text/plain": [
       "\"688-6888\""
      ]
     },
     "execution_count": 62,
     "metadata": {},
     "output_type": "execute_result"
    }
   ],
   "source": [
    "myphonebook[\"Pizza guy\"]"
   ]
  },
  {
   "cell_type": "code",
   "execution_count": 63,
   "metadata": {},
   "outputs": [
    {
     "data": {
      "text/plain": [
       "\"555-FIRE\""
      ]
     },
     "execution_count": 63,
     "metadata": {},
     "output_type": "execute_result"
    }
   ],
   "source": [
    "myphonebook[\"Fire Busters\"] = \"555-FIRE\"  #Adding another key to our dictionary"
   ]
  },
  {
   "cell_type": "code",
   "execution_count": 64,
   "metadata": {},
   "outputs": [
    {
     "data": {
      "text/plain": [
       "Dict{String,String} with 4 entries:\n",
       "  \"Manga enquiry\" => \"152-6489\"\n",
       "  \"Pizza guy\"     => \"688-6888\"\n",
       "  \"Fire Busters\"  => \"555-FIRE\"\n",
       "  \"Ghostbusters\"  => \"555-2368\""
      ]
     },
     "execution_count": 64,
     "metadata": {},
     "output_type": "execute_result"
    }
   ],
   "source": [
    "myphonebook"
   ]
  },
  {
   "cell_type": "code",
   "execution_count": 65,
   "metadata": {},
   "outputs": [
    {
     "data": {
      "text/plain": [
       "\"152-6489\""
      ]
     },
     "execution_count": 65,
     "metadata": {},
     "output_type": "execute_result"
    }
   ],
   "source": [
    "pop!(myphonebook, \"Manga enquiry\")    #Removing key to our dictionary"
   ]
  },
  {
   "cell_type": "code",
   "execution_count": 66,
   "metadata": {},
   "outputs": [
    {
     "data": {
      "text/plain": [
       "Dict{String,String} with 3 entries:\n",
       "  \"Pizza guy\"    => \"688-6888\"\n",
       "  \"Fire Busters\" => \"555-FIRE\"\n",
       "  \"Ghostbusters\" => \"555-2368\""
      ]
     },
     "execution_count": 66,
     "metadata": {},
     "output_type": "execute_result"
    }
   ],
   "source": [
    "myphonebook"
   ]
  },
  {
   "cell_type": "markdown",
   "metadata": {},
   "source": [
    "Array\n",
    "\n",
    "its is orderd and Mutable to every point "
   ]
  },
  {
   "cell_type": "code",
   "execution_count": 67,
   "metadata": {},
   "outputs": [
    {
     "data": {
      "text/plain": [
       "5-element Array{String,1}:\n",
       " \"Android\"\n",
       " \"PC\"\n",
       " \"Ps4\"\n",
       " \"Fb\"\n",
       " \"whatsapp\""
      ]
     },
     "execution_count": 67,
     "metadata": {},
     "output_type": "execute_result"
    }
   ],
   "source": [
    "myfriends_everyday = [\"Android\", \"PC\", \"Ps4\", \"Fb\", \"whatsapp\"]"
   ]
  },
  {
   "cell_type": "code",
   "execution_count": 68,
   "metadata": {},
   "outputs": [
    {
     "data": {
      "text/plain": [
       "7-element Array{Int64,1}:\n",
       "  1\n",
       "  1\n",
       "  2\n",
       "  3\n",
       "  5\n",
       "  8\n",
       " 13"
      ]
     },
     "execution_count": 68,
     "metadata": {},
     "output_type": "execute_result"
    }
   ],
   "source": [
    "fibonacci = [1, 1, 2, 3, 5, 8, 13]"
   ]
  },
  {
   "cell_type": "code",
   "execution_count": 69,
   "metadata": {},
   "outputs": [
    {
     "data": {
      "text/plain": [
       "6-element Array{Any,1}:\n",
       " 1\n",
       " 1\n",
       " 2\n",
       " 3\n",
       "  \"Ted\"\n",
       "  \"Robyn\""
      ]
     },
     "execution_count": 69,
     "metadata": {},
     "output_type": "execute_result"
    }
   ],
   "source": [
    "mixture = [1, 1, 2, 3, \"Ted\", \"Robyn\"]"
   ]
  },
  {
   "cell_type": "code",
   "execution_count": 70,
   "metadata": {},
   "outputs": [
    {
     "data": {
      "text/plain": [
       "\"Ps4\""
      ]
     },
     "execution_count": 70,
     "metadata": {},
     "output_type": "execute_result"
    }
   ],
   "source": [
    "myfriends_everyday[3]"
   ]
  },
  {
   "cell_type": "code",
   "execution_count": 74,
   "metadata": {},
   "outputs": [
    {
     "data": {
      "text/plain": [
       "\"Xbox360\""
      ]
     },
     "execution_count": 74,
     "metadata": {},
     "output_type": "execute_result"
    }
   ],
   "source": [
    "myfriends_everyday[3] = \"Xbox360\""
   ]
  },
  {
   "cell_type": "code",
   "execution_count": 75,
   "metadata": {},
   "outputs": [
    {
     "data": {
      "text/plain": [
       "8-element Array{Int64,1}:\n",
       "  1\n",
       "  1\n",
       "  2\n",
       "  3\n",
       "  5\n",
       "  8\n",
       " 13\n",
       " 21"
      ]
     },
     "execution_count": 75,
     "metadata": {},
     "output_type": "execute_result"
    }
   ],
   "source": [
    "push!(fibonacci, 21) #adding a number to Array..by using push! function"
   ]
  },
  {
   "cell_type": "code",
   "execution_count": 76,
   "metadata": {},
   "outputs": [
    {
     "data": {
      "text/plain": [
       "21"
      ]
     },
     "execution_count": 76,
     "metadata": {},
     "output_type": "execute_result"
    }
   ],
   "source": [
    "pop!(fibonacci)  #Removing the recently add number in Array using pop! function"
   ]
  },
  {
   "cell_type": "code",
   "execution_count": 78,
   "metadata": {},
   "outputs": [
    {
     "data": {
      "text/plain": [
       "7-element Array{Int64,1}:\n",
       "  1\n",
       "  1\n",
       "  2\n",
       "  3\n",
       "  5\n",
       "  8\n",
       " 13"
      ]
     },
     "execution_count": 78,
     "metadata": {},
     "output_type": "execute_result"
    }
   ],
   "source": [
    "fibonacci"
   ]
  },
  {
   "cell_type": "markdown",
   "metadata": {},
   "source": [
    "Loops....in Julia progamming....\n",
    "\n",
    "\n",
    "1. `while` loops\n",
    "\n",
    "\n",
    "2. `for` loops"
   ]
  },
  {
   "cell_type": "code",
   "execution_count": 84,
   "metadata": {},
   "outputs": [
    {
     "name": "stdout",
     "output_type": "stream",
     "text": [
      "1\n",
      "2\n",
      "3\n",
      "4\n",
      "5\n",
      "6\n",
      "7\n",
      "8\n",
      "9\n",
      "10\n",
      "11\n",
      "12\n",
      "13\n",
      "14\n",
      "15\n",
      "16\n",
      "17\n",
      "18\n",
      "19\n",
      "20\n",
      "20\n"
     ]
    }
   ],
   "source": [
    "################################## For While LOOP ####################\n",
    "# ```julia\n",
    "# while *condition*\n",
    "#     *loop body*\n",
    "# end\n",
    "# ```\n",
    "\n",
    "n = 0\n",
    "while n < 20\n",
    "    global n += 1\n",
    "    println(n)\n",
    "end\n",
    "n\n",
    "println(n)\n"
   ]
  },
  {
   "cell_type": "code",
   "execution_count": 85,
   "metadata": {},
   "outputs": [
    {
     "name": "stdout",
     "output_type": "stream",
     "text": [
      "Hi Abhishek, it's great to see you!\n",
      "Hi Abhinav, it's great to see you!\n",
      "Hi Ashish, it's great to see you!\n",
      "Hi Vipul, it's great to see you!\n",
      "Hi Vishesh, it's great to see you!\n",
      "Hi Vipul, it's great to see you!\n"
     ]
    }
   ],
   "source": [
    "myfriends = [\"Abhishek\", \"Abhinav\", \"Ashish\", \"Vipul\", \"Vishesh\", \"Vipul\"]\n",
    "\n",
    "i = 1\n",
    "while i <= length(myfriends)\n",
    "    friend = myfriends[i]\n",
    "    println(\"Hi $friend, it's great to see you!\")\n",
    "    global i += 1\n",
    "end"
   ]
  },
  {
   "cell_type": "code",
   "execution_count": 87,
   "metadata": {},
   "outputs": [
    {
     "name": "stdout",
     "output_type": "stream",
     "text": [
      "1\n",
      "2\n",
      "3\n",
      "4\n",
      "5\n",
      "6\n",
      "7\n",
      "8\n",
      "9\n",
      "10\n",
      "11\n",
      "12\n",
      "13\n",
      "14\n",
      "15\n",
      "16\n",
      "17\n",
      "18\n",
      "19\n",
      "20\n",
      "21\n",
      "22\n",
      "23\n",
      "24\n",
      "25\n",
      "26\n",
      "27\n",
      "28\n",
      "29\n",
      "30\n"
     ]
    }
   ],
   "source": [
    "# ## for loops\n",
    "#\n",
    "# The syntax for a `for` loop is\n",
    "#\n",
    "# ```julia\n",
    "# for *var* in *loop iterable*\n",
    "#     *loop body*\n",
    "# end\n",
    "# ```\n",
    "\n",
    "\n",
    "for n in 1:30\n",
    "    println(n)\n",
    "end"
   ]
  },
  {
   "cell_type": "code",
   "execution_count": 89,
   "metadata": {},
   "outputs": [
    {
     "name": "stdout",
     "output_type": "stream",
     "text": [
      "Hi Abhishek, it's great to see you! and how are you guys?\n",
      "Hi Abhinav, it's great to see you! and how are you guys?\n",
      "Hi Ashish, it's great to see you! and how are you guys?\n",
      "Hi Vipul, it's great to see you! and how are you guys?\n",
      "Hi Vishesh, it's great to see you! and how are you guys?\n",
      "Hi Vipul, it's great to see you! and how are you guys?\n"
     ]
    }
   ],
   "source": [
    "myfriends = [\"Abhishek\", \"Abhinav\", \"Ashish\", \"Vipul\", \"Vishesh\", \"Vipul\"]\n",
    "\n",
    "for friend in myfriends\n",
    "    println(\"Hi $friend, it's great to see you! and how are you guys?\")\n",
    "end"
   ]
  },
  {
   "cell_type": "code",
   "execution_count": 91,
   "metadata": {},
   "outputs": [
    {
     "name": "stdout",
     "output_type": "stream",
     "text": [
      "[2 3 4 5 6 7 8 9 10 11; 3 4 5 6 7 8 9 10 11 12; 4 5 6 7 8 9 10 11 12 13; 5 6 7 8 9 10 11 12 13 14; 6 7 8 9 10 11 12 13 14 15; 7 8 9 10 11 12 13 14 15 16; 8 9 10 11 12 13 14 15 16 17; 9 10 11 12 13 14 15 16 17 18; 10 11 12 13 14 15 16 17 18 19; 11 12 13 14 15 16 17 18 19 20]\n"
     ]
    }
   ],
   "source": [
    "m, n = 10, 10\n",
    "A = fill(0, (m, n))\n",
    "\n",
    "for j in 1:n\n",
    "    for i in 1:m\n",
    "        A[i, j] = i + j\n",
    "    end\n",
    "end\n",
    "println(A)"
   ]
  },
  {
   "cell_type": "code",
   "execution_count": 92,
   "metadata": {},
   "outputs": [
    {
     "name": "stdout",
     "output_type": "stream",
     "text": [
      "[2 3 4 5 6 7 8 9 10 11; 3 4 5 6 7 8 9 10 11 12; 4 5 6 7 8 9 10 11 12 13; 5 6 7 8 9 10 11 12 13 14; 6 7 8 9 10 11 12 13 14 15; 7 8 9 10 11 12 13 14 15 16; 8 9 10 11 12 13 14 15 16 17; 9 10 11 12 13 14 15 16 17 18; 10 11 12 13 14 15 16 17 18 19; 11 12 13 14 15 16 17 18 19 20]\n"
     ]
    }
   ],
   "source": [
    "B = fill(0, (m, n))\n",
    "\n",
    "for j in 1:n, i in 1:m\n",
    "    B[i, j] = i + j\n",
    "end\n",
    "println(B)"
   ]
  },
  {
   "cell_type": "code",
   "execution_count": 94,
   "metadata": {},
   "outputs": [
    {
     "data": {
      "text/plain": [
       "10×10 Array{Int64,2}:\n",
       "  2   3   4   5   6   7   8   9  10  11\n",
       "  3   4   5   6   7   8   9  10  11  12\n",
       "  4   5   6   7   8   9  10  11  12  13\n",
       "  5   6   7   8   9  10  11  12  13  14\n",
       "  6   7   8   9  10  11  12  13  14  15\n",
       "  7   8   9  10  11  12  13  14  15  16\n",
       "  8   9  10  11  12  13  14  15  16  17\n",
       "  9  10  11  12  13  14  15  16  17  18\n",
       " 10  11  12  13  14  15  16  17  18  19\n",
       " 11  12  13  14  15  16  17  18  19  20"
      ]
     },
     "execution_count": 94,
     "metadata": {},
     "output_type": "execute_result"
    }
   ],
   "source": [
    "C = [i + j for i in 1:m, j in 1:n]"
   ]
  },
  {
   "cell_type": "markdown",
   "metadata": {},
   "source": [
    "if and else statement\n",
    "\n",
    "\n",
    "conditional statements/control statements\n"
   ]
  },
  {
   "cell_type": "code",
   "execution_count": 95,
   "metadata": {},
   "outputs": [
    {
     "name": "stdout",
     "output_type": "stream",
     "text": [
      "1\n"
     ]
    }
   ],
   "source": [
    "# In Julia, the syntax\n",
    "#\n",
    "# ```julia\n",
    "# if *condition 1*\n",
    "#     *option 1*\n",
    "# elseif *condition 2*\n",
    "#     *option 2*\n",
    "# else\n",
    "#     *option 3*\n",
    "# end\n",
    "# ```\n",
    "\n",
    "\n",
    "N = 1\n",
    "\n",
    "if (N % 3 == 0) && (N % 5 == 0) # `&&` means \"AND\"; % computes the remainder after division\n",
    "    println(\"FizzBuzz\")\n",
    "elseif N % 3 == 0\n",
    "    println(\"Fizz\")\n",
    "elseif N % 5 == 0\n",
    "    println(\"Buzz\")\n",
    "else\n",
    "    println(N)\n",
    "end"
   ]
  },
  {
   "cell_type": "markdown",
   "metadata": {},
   "source": [
    "fuction in julia"
   ]
  },
  {
   "cell_type": "code",
   "execution_count": 96,
   "metadata": {},
   "outputs": [
    {
     "data": {
      "text/plain": [
       "f (generic function with 1 method)"
      ]
     },
     "execution_count": 96,
     "metadata": {},
     "output_type": "execute_result"
    }
   ],
   "source": [
    "function sayhi(name)\n",
    "    println(\"Hi $name, it's great to see you!\")\n",
    "end\n",
    "\n",
    "function f(x)\n",
    "    x^2\n",
    "end\n"
   ]
  },
  {
   "cell_type": "code",
   "execution_count": 99,
   "metadata": {},
   "outputs": [
    {
     "name": "stdout",
     "output_type": "stream",
     "text": [
      "Hi Abhishek, it's great to see you!"
     ]
    },
    {
     "data": {
      "text/plain": [
       "3200521"
      ]
     },
     "execution_count": 99,
     "metadata": {},
     "output_type": "execute_result"
    },
    {
     "name": "stdout",
     "output_type": "stream",
     "text": [
      "\n"
     ]
    }
   ],
   "source": [
    "sayhi(\"Abhishek\")\n",
    "\n",
    "f(1789)"
   ]
  },
  {
   "cell_type": "code",
   "execution_count": null,
   "metadata": {},
   "outputs": [],
   "source": []
  }
 ],
 "metadata": {
  "kernelspec": {
   "display_name": "Julia 1.4.2",
   "language": "julia",
   "name": "julia-1.4"
  },
  "language_info": {
   "file_extension": ".jl",
   "mimetype": "application/julia",
   "name": "julia",
   "version": "1.4.2"
  }
 },
 "nbformat": 4,
 "nbformat_minor": 4
}
